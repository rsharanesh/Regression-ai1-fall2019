{
  "nbformat": 4,
  "nbformat_minor": 0,
  "metadata": {
    "kernelspec": {
      "name": "python3",
      "display_name": "Python 3"
    },
    "language_info": {
      "mimetype": "text/x-python",
      "nbconvert_exporter": "python",
      "name": "python",
      "file_extension": ".py",
      "version": "3.6.8",
      "pygments_lexer": "ipython3",
      "codemirror_mode": {
        "version": 3,
        "name": "ipython"
      }
    },
    "anaconda-cloud": {},
    "nteract": {
      "version": "0.7.1"
    },
    "colab": {
      "name": "lab_linreg.ipynb",
      "provenance": [],
      "include_colab_link": true
    },
    "accelerator": "GPU"
  },
  "cells": [
    {
      "cell_type": "markdown",
      "metadata": {
        "id": "view-in-github",
        "colab_type": "text"
      },
      "source": [
        "<a href=\"https://colab.research.google.com/github/rsharanesh/Regression-ai1-fall2019/blob/master/lab_linreg.ipynb\" target=\"_parent\"><img src=\"https://colab.research.google.com/assets/colab-badge.svg\" alt=\"Open In Colab\"/></a>"
      ]
    },
    {
      "cell_type": "markdown",
      "metadata": {
        "id": "cZCoeCO1Fm0j",
        "colab_type": "text"
      },
      "source": [
        "# Linear Regression Multiple Ways"
      ]
    },
    {
      "cell_type": "markdown",
      "metadata": {
        "id": "y6Hmk8TNFm0p",
        "colab_type": "text"
      },
      "source": [
        "## Making the data\n",
        "\n",
        "We'll first construct a synthetic data set..using a function from the `scikit-learn` library. Synthetic data is nice in the sense that we can constrain how the noise behaves, and thus isolate effects."
      ]
    },
    {
      "cell_type": "code",
      "metadata": {
        "id": "Y_HKieyZFm0s",
        "colab_type": "code",
        "colab": {}
      },
      "source": [
        "%matplotlib inline\n",
        "from sklearn.datasets import make_regression\n",
        "import numpy as np\n",
        "import matplotlib.pyplot as plt"
      ],
      "execution_count": 0,
      "outputs": []
    },
    {
      "cell_type": "code",
      "metadata": {
        "id": "vn2CLrGFFm03",
        "colab_type": "code",
        "colab": {}
      },
      "source": [
        "#code adapted from http://tillbergmann.com/blog/python-gradient-descent.html\n",
        "X, y, coef = make_regression(n_samples = 100, \n",
        "                       n_features=1, # one type of x\n",
        "                       noise=20,\n",
        "                       random_state=2017,\n",
        "                       coef=True)\n",
        "#creates a data to \n",
        "#chose random data set"
      ],
      "execution_count": 0,
      "outputs": []
    },
    {
      "cell_type": "markdown",
      "metadata": {
        "id": "g8LLS_huFm0_",
        "colab_type": "text"
      },
      "source": [
        "Notice that the X is in the canonical array-of-arrays format.\n",
        "**Try and print its shape**"
      ]
    },
    {
      "cell_type": "code",
      "metadata": {
        "id": "hRAOJq9BFm1C",
        "colab_type": "code",
        "colab": {
          "base_uri": "https://localhost:8080/",
          "height": 34
        },
        "outputId": "7292d896-21a7-4c3c-e479-11a20b2ffb1f"
      },
      "source": [
        "X.shape"
      ],
      "execution_count": 7,
      "outputs": [
        {
          "output_type": "execute_result",
          "data": {
            "text/plain": [
              "(100, 1)"
            ]
          },
          "metadata": {
            "tags": []
          },
          "execution_count": 7
        }
      ]
    },
    {
      "cell_type": "code",
      "metadata": {
        "id": "YeujV2WUJM3r",
        "colab_type": "code",
        "colab": {
          "base_uri": "https://localhost:8080/",
          "height": 1000
        },
        "outputId": "863a746f-4543-4013-8a8e-0b9df0f255b1"
      },
      "source": [
        "X"
      ],
      "execution_count": 8,
      "outputs": [
        {
          "output_type": "execute_result",
          "data": {
            "text/plain": [
              "array([[ 0.03225343],\n",
              "       [-0.43717257],\n",
              "       [-0.14039799],\n",
              "       [-0.28942671],\n",
              "       [-1.43048995],\n",
              "       [-0.86109055],\n",
              "       [-0.95908022],\n",
              "       [-0.52824237],\n",
              "       [-0.18007786],\n",
              "       [ 1.81894788],\n",
              "       [-1.50157469],\n",
              "       [ 1.07524045],\n",
              "       [-0.53757079],\n",
              "       [-0.33654744],\n",
              "       [-0.69333384],\n",
              "       [ 0.18613021],\n",
              "       [-0.35285906],\n",
              "       [-0.59573347],\n",
              "       [-0.95284841],\n",
              "       [ 1.37214258],\n",
              "       [-1.00148098],\n",
              "       [ 0.59405599],\n",
              "       [ 1.98893004],\n",
              "       [-0.84764818],\n",
              "       [ 0.21276995],\n",
              "       [-0.86352344],\n",
              "       [-0.44574656],\n",
              "       [-1.08669572],\n",
              "       [ 0.88578638],\n",
              "       [-0.39457786],\n",
              "       [-0.75808346],\n",
              "       [ 0.21445342],\n",
              "       [-0.91772873],\n",
              "       [ 1.18192126],\n",
              "       [-1.23456807],\n",
              "       [ 1.51028721],\n",
              "       [ 0.36908201],\n",
              "       [ 0.07800759],\n",
              "       [ 0.92827925],\n",
              "       [ 0.91180261],\n",
              "       [ 0.50541435],\n",
              "       [ 0.39476163],\n",
              "       [-1.40727442],\n",
              "       [ 1.33682587],\n",
              "       [ 0.28914398],\n",
              "       [ 0.10784411],\n",
              "       [-0.48610801],\n",
              "       [-1.01412413],\n",
              "       [-0.99058644],\n",
              "       [-0.81726253],\n",
              "       [ 1.19533418],\n",
              "       [ 1.39334529],\n",
              "       [-0.55307527],\n",
              "       [ 1.31181742],\n",
              "       [-0.20875222],\n",
              "       [ 0.02615138],\n",
              "       [ 0.03133165],\n",
              "       [-0.85845574],\n",
              "       [-0.09592554],\n",
              "       [ 0.57347598],\n",
              "       [ 0.88361674],\n",
              "       [-0.27481173],\n",
              "       [-0.89590558],\n",
              "       [-1.02294529],\n",
              "       [ 1.44454617],\n",
              "       [ 0.74268098],\n",
              "       [-0.55325354],\n",
              "       [ 0.46630994],\n",
              "       [ 0.81253433],\n",
              "       [-0.38342089],\n",
              "       [ 1.14773859],\n",
              "       [ 0.19909227],\n",
              "       [-0.09843773],\n",
              "       [-0.39285043],\n",
              "       [ 1.20320029],\n",
              "       [-1.56386788],\n",
              "       [-0.724668  ],\n",
              "       [-0.84860918],\n",
              "       [-0.22007928],\n",
              "       [-0.73312349],\n",
              "       [-0.44412137],\n",
              "       [ 1.23233384],\n",
              "       [-0.48253414],\n",
              "       [ 0.6770562 ],\n",
              "       [ 0.89574884],\n",
              "       [-0.01124513],\n",
              "       [-0.520261  ],\n",
              "       [-2.20268367],\n",
              "       [ 1.20129796],\n",
              "       [-0.74358543],\n",
              "       [-0.70954338],\n",
              "       [-0.19933591],\n",
              "       [-1.08933018],\n",
              "       [ 0.78779876],\n",
              "       [ 0.14851281],\n",
              "       [-0.59370289],\n",
              "       [ 0.44482146],\n",
              "       [ 2.42038368],\n",
              "       [ 0.67422499],\n",
              "       [ 0.02184234]])"
            ]
          },
          "metadata": {
            "tags": []
          },
          "execution_count": 8
        }
      ]
    },
    {
      "cell_type": "markdown",
      "metadata": {
        "id": "e836IftKFm1N",
        "colab_type": "text"
      },
      "source": [
        "We are fitting a model with an intercept. Lets see what it is."
      ]
    },
    {
      "cell_type": "code",
      "metadata": {
        "id": "D3TStgnzFm1P",
        "colab_type": "code",
        "colab": {
          "base_uri": "https://localhost:8080/",
          "height": 34
        },
        "outputId": "c6dc2b2a-58d1-406a-910a-144fc703678a"
      },
      "source": [
        "coef\n",
        "#this is the intercept of the model"
      ],
      "execution_count": 9,
      "outputs": [
        {
          "output_type": "execute_result",
          "data": {
            "text/plain": [
              "array(80.88336208)"
            ]
          },
          "metadata": {
            "tags": []
          },
          "execution_count": 9
        }
      ]
    },
    {
      "cell_type": "markdown",
      "metadata": {
        "id": "1wPTWhqDFm1Z",
        "colab_type": "text"
      },
      "source": [
        "We can plot the data."
      ]
    },
    {
      "cell_type": "code",
      "metadata": {
        "id": "AYSjCiVLFm1e",
        "colab_type": "code",
        "colab": {
          "base_uri": "https://localhost:8080/",
          "height": 269
        },
        "outputId": "258cd89d-c43f-4a18-d8e8-0dd755a02ee9"
      },
      "source": [
        "plt.plot(X,y, 'o');"
      ],
      "execution_count": 12,
      "outputs": [
        {
          "output_type": "display_data",
          "data": {
            "image/png": "[encoded data removed]",
            "text/plain": [
              "<Figure size 432x288 with 1 Axes>"
            ]
          },
          "metadata": {
            "tags": []
          }
        }
      ]
    },
    {
      "cell_type": "markdown",
      "metadata": {
        "id": "sL-NNvaYFm1p",
        "colab_type": "text"
      },
      "source": [
        "For the purposes of drawing the regression line, lets create a uniform grid of points, and then reshape it into the canonical format"
      ]
    },
    {
      "cell_type": "code",
      "metadata": {
        "id": "G8CDwqI2Fm1u",
        "colab_type": "code",
        "colab": {
          "base_uri": "https://localhost:8080/",
          "height": 269
        },
        "outputId": "ca0aa730-bae5-40dd-d067-b8df10fc3c9e"
      },
      "source": [
        "xgrid = np.linspace(-2.5,2.5,1000)\n",
        "Xgrid = xgrid.reshape(-1,1)\n",
        "plt.plot(X,y, 'o');"
      ],
      "execution_count": 13,
      "outputs": [
        {
          "output_type": "display_data",
          "data": {
            "image/png": "[encoded data removed]",
            "text/plain": [
              "<Figure size 432x288 with 1 Axes>"
            ]
          },
          "metadata": {
            "tags": []
          }
        }
      ]
    },
    {
      "cell_type": "code",
      "metadata": {
        "id": "GJn_6se-KbOO",
        "colab_type": "code",
        "colab": {
          "base_uri": "https://localhost:8080/",
          "height": 1000
        },
        "outputId": "de4bdf00-dd14-4710-81d1-f64a606934f7"
      },
      "source": [
        "Xgrid\n",
        "#we are dividing the Grpah sheet\n"
      ],
      "execution_count": 14,
      "outputs": [
        {
          "output_type": "execute_result",
          "data": {
            "text/plain": [
              "array([[-2.5       ],\n",
              "       [-2.49499499],\n",
              "       [-2.48998999],\n",
              "       [-2.48498498],\n",
              "       [-2.47997998],\n",
              "       [-2.47497497],\n",
              "       [-2.46996997],\n",
              "       [-2.46496496],\n",
              "       [-2.45995996],\n",
              "       [-2.45495495],\n",
              "       [-2.44994995],\n",
              "       [-2.44494494],\n",
              "       [-2.43993994],\n",
              "       [-2.43493493],\n",
              "       [-2.42992993],\n",
              "       [-2.42492492],\n",
              "       [-2.41991992],\n",
              "       [-2.41491491],\n",
              "       [-2.40990991],\n",
              "       [-2.4049049 ],\n",
              "       [-2.3998999 ],\n",
              "       [-2.39489489],\n",
              "       [-2.38988989],\n",
              "       [-2.38488488],\n",
              "       [-2.37987988],\n",
              "       [-2.37487487],\n",
              "       [-2.36986987],\n",
              "       [-2.36486486],\n",
              "       [-2.35985986],\n",
              "       [-2.35485485],\n",
              "       [-2.34984985],\n",
              "       [-2.34484484],\n",
              "       [-2.33983984],\n",
              "       [-2.33483483],\n",
              "       [-2.32982983],\n",
              "       [-2.32482482],\n",
              "       [-2.31981982],\n",
              "       [-2.31481481],\n",
              "       [-2.30980981],\n",
              "       [-2.3048048 ],\n",
              "       [-2.2997998 ],\n",
              "       [-2.29479479],\n",
              "       [-2.28978979],\n",
              "       [-2.28478478],\n",
              "       [-2.27977978],\n",
              "       [-2.27477477],\n",
              "       [-2.26976977],\n",
              "       [-2.26476476],\n",
              "       [-2.25975976],\n",
              "       [-2.25475475],\n",
              "       [-2.24974975],\n",
              "       [-2.24474474],\n",
              "       [-2.23973974],\n",
              "       [-2.23473473],\n",
              "       [-2.22972973],\n",
              "       [-2.22472472],\n",
              "       [-2.21971972],\n",
              "       [-2.21471471],\n",
              "       [-2.20970971],\n",
              "       [-2.2047047 ],\n",
              "       [-2.1996997 ],\n",
              "       [-2.19469469],\n",
              "       [-2.18968969],\n",
              "       [-2.18468468],\n",
              "       [-2.17967968],\n",
              "       [-2.17467467],\n",
              "       [-2.16966967],\n",
              "       [-2.16466466],\n",
              "       [-2.15965966],\n",
              "       [-2.15465465],\n",
              "       [-2.14964965],\n",
              "       [-2.14464464],\n",
              "       [-2.13963964],\n",
              "       [-2.13463463],\n",
              "       [-2.12962963],\n",
              "       [-2.12462462],\n",
              "       [-2.11961962],\n",
              "       [-2.11461461],\n",
              "       [-2.10960961],\n",
              "       [-2.1046046 ],\n",
              "       [-2.0995996 ],\n",
              "       [-2.09459459],\n",
              "       [-2.08958959],\n",
              "       [-2.08458458],\n",
              "       [-2.07957958],\n",
              "       [-2.07457457],\n",
              "       [-2.06956957],\n",
              "       [-2.06456456],\n",
              "       [-2.05955956],\n",
              "       [-2.05455455],\n",
              "       [-2.04954955],\n",
              "       [-2.04454454],\n",
              "       [-2.03953954],\n",
              "       [-2.03453453],\n",
              "       [-2.02952953],\n",
              "       [-2.02452452],\n",
              "       [-2.01951952],\n",
              "       [-2.01451451],\n",
              "       [-2.00950951],\n",
              "       [-2.0045045 ],\n",
              "       [-1.9994995 ],\n",
              "       [-1.99449449],\n",
              "       [-1.98948949],\n",
              "       [-1.98448448],\n",
              "       [-1.97947948],\n",
              "       [-1.97447447],\n",
              "       [-1.96946947],\n",
              "       [-1.96446446],\n",
              "       [-1.95945946],\n",
              "       [-1.95445445],\n",
              "       [-1.94944945],\n",
              "       [-1.94444444],\n",
              "       [-1.93943944],\n",
              "       [-1.93443443],\n",
              "       [-1.92942943],\n",
              "       [-1.92442442],\n",
              "       [-1.91941942],\n",
              "       [-1.91441441],\n",
              "       [-1.90940941],\n",
              "       [-1.9044044 ],\n",
              "       [-1.8993994 ],\n",
              "       [-1.89439439],\n",
              "       [-1.88938939],\n",
              "       [-1.88438438],\n",
              "       [-1.87937938],\n",
              "       [-1.87437437],\n",
              "       [-1.86936937],\n",
              "       [-1.86436436],\n",
              "       [-1.85935936],\n",
              "       [-1.85435435],\n",
              "       [-1.84934935],\n",
              "       [-1.84434434],\n",
              "       [-1.83933934],\n",
              "       [-1.83433433],\n",
              "       [-1.82932933],\n",
              "       [-1.82432432],\n",
              "       [-1.81931932],\n",
              "       [-1.81431431],\n",
              "       [-1.80930931],\n",
              "       [-1.8043043 ],\n",
              "       [-1.7992993 ],\n",
              "       [-1.79429429],\n",
              "       [-1.78928929],\n",
              "       [-1.78428428],\n",
              "       [-1.77927928],\n",
              "       [-1.77427427],\n",
              "       [-1.76926927],\n",
              "       [-1.76426426],\n",
              "       [-1.75925926],\n",
              "       [-1.75425425],\n",
              "       [-1.74924925],\n",
              "       [-1.74424424],\n",
              "       [-1.73923924],\n",
              "       [-1.73423423],\n",
              "       [-1.72922923],\n",
              "       [-1.72422422],\n",
              "       [-1.71921922],\n",
              "       [-1.71421421],\n",
              "       [-1.70920921],\n",
              "       [-1.7042042 ],\n",
              "       [-1.6991992 ],\n",
              "       [-1.69419419],\n",
              "       [-1.68918919],\n",
              "       [-1.68418418],\n",
              "       [-1.67917918],\n",
              "       [-1.67417417],\n",
              "       [-1.66916917],\n",
              "       [-1.66416416],\n",
              "       [-1.65915916],\n",
              "       [-1.65415415],\n",
              "       [-1.64914915],\n",
              "       [-1.64414414],\n",
              "       [-1.63913914],\n",
              "       [-1.63413413],\n",
              "       [-1.62912913],\n",
              "       [-1.62412412],\n",
              "       [-1.61911912],\n",
              "       [-1.61411411],\n",
              "       [-1.60910911],\n",
              "       [-1.6041041 ],\n",
              "       [-1.5990991 ],\n",
              "       [-1.59409409],\n",
              "       [-1.58908909],\n",
              "       [-1.58408408],\n",
              "       [-1.57907908],\n",
              "       [-1.57407407],\n",
              "       [-1.56906907],\n",
              "       [-1.56406406],\n",
              "       [-1.55905906],\n",
              "       [-1.55405405],\n",
              "       [-1.54904905],\n",
              "       [-1.54404404],\n",
              "       [-1.53903904],\n",
              "       [-1.53403403],\n",
              "       [-1.52902903],\n",
              "       [-1.52402402],\n",
              "       [-1.51901902],\n",
              "       [-1.51401401],\n",
              "       [-1.50900901],\n",
              "       [-1.504004  ],\n",
              "       [-1.498999  ],\n",
              "       [-1.49399399],\n",
              "       [-1.48898899],\n",
              "       [-1.48398398],\n",
              "       [-1.47897898],\n",
              "       [-1.47397397],\n",
              "       [-1.46896897],\n",
              "       [-1.46396396],\n",
              "       [-1.45895896],\n",
              "       [-1.45395395],\n",
              "       [-1.44894895],\n",
              "       [-1.44394394],\n",
              "       [-1.43893894],\n",
              "       [-1.43393393],\n",
              "       [-1.42892893],\n",
              "       [-1.42392392],\n",
              "       [-1.41891892],\n",
              "       [-1.41391391],\n",
              "       [-1.40890891],\n",
              "       [-1.4039039 ],\n",
              "       [-1.3988989 ],\n",
              "       [-1.39389389],\n",
              "       [-1.38888889],\n",
              "       [-1.38388388],\n",
              "       [-1.37887888],\n",
              "       [-1.37387387],\n",
              "       [-1.36886887],\n",
              "       [-1.36386386],\n",
              "       [-1.35885886],\n",
              "       [-1.35385385],\n",
              "       [-1.34884885],\n",
              "       [-1.34384384],\n",
              "       [-1.33883884],\n",
              "       [-1.33383383],\n",
              "       [-1.32882883],\n",
              "       [-1.32382382],\n",
              "       [-1.31881882],\n",
              "       [-1.31381381],\n",
              "       [-1.30880881],\n",
              "       [-1.3038038 ],\n",
              "       [-1.2987988 ],\n",
              "       [-1.29379379],\n",
              "       [-1.28878879],\n",
              "       [-1.28378378],\n",
              "       [-1.27877878],\n",
              "       [-1.27377377],\n",
              "       [-1.26876877],\n",
              "       [-1.26376376],\n",
              "       [-1.25875876],\n",
              "       [-1.25375375],\n",
              "       [-1.24874875],\n",
              "       [-1.24374374],\n",
              "       [-1.23873874],\n",
              "       [-1.23373373],\n",
              "       [-1.22872873],\n",
              "       [-1.22372372],\n",
              "       [-1.21871872],\n",
              "       [-1.21371371],\n",
              "       [-1.20870871],\n",
              "       [-1.2037037 ],\n",
              "       [-1.1986987 ],\n",
              "       [-1.19369369],\n",
              "       [-1.18868869],\n",
              "       [-1.18368368],\n",
              "       [-1.17867868],\n",
              "       [-1.17367367],\n",
              "       [-1.16866867],\n",
              "       [-1.16366366],\n",
              "       [-1.15865866],\n",
              "       [-1.15365365],\n",
              "       [-1.14864865],\n",
              "       [-1.14364364],\n",
              "       [-1.13863864],\n",
              "       [-1.13363363],\n",
              "       [-1.12862863],\n",
              "       [-1.12362362],\n",
              "       [-1.11861862],\n",
              "       [-1.11361361],\n",
              "       [-1.10860861],\n",
              "       [-1.1036036 ],\n",
              "       [-1.0985986 ],\n",
              "       [-1.09359359],\n",
              "       [-1.08858859],\n",
              "       [-1.08358358],\n",
              "       [-1.07857858],\n",
              "       [-1.07357357],\n",
              "       [-1.06856857],\n",
              "       [-1.06356356],\n",
              "       [-1.05855856],\n",
              "       [-1.05355355],\n",
              "       [-1.04854855],\n",
              "       [-1.04354354],\n",
              "       [-1.03853854],\n",
              "       [-1.03353353],\n",
              "       [-1.02852853],\n",
              "       [-1.02352352],\n",
              "       [-1.01851852],\n",
              "       [-1.01351351],\n",
              "       [-1.00850851],\n",
              "       [-1.0035035 ],\n",
              "       [-0.9984985 ],\n",
              "       [-0.99349349],\n",
              "       [-0.98848849],\n",
              "       [-0.98348348],\n",
              "       [-0.97847848],\n",
              "       [-0.97347347],\n",
              "       [-0.96846847],\n",
              "       [-0.96346346],\n",
              "       [-0.95845846],\n",
              "       [-0.95345345],\n",
              "       [-0.94844845],\n",
              "       [-0.94344344],\n",
              "       [-0.93843844],\n",
              "       [-0.93343343],\n",
              "       [-0.92842843],\n",
              "       [-0.92342342],\n",
              "       [-0.91841842],\n",
              "       [-0.91341341],\n",
              "       [-0.90840841],\n",
              "       [-0.9034034 ],\n",
              "       [-0.8983984 ],\n",
              "       [-0.89339339],\n",
              "       [-0.88838839],\n",
              "       [-0.88338338],\n",
              "       [-0.87837838],\n",
              "       [-0.87337337],\n",
              "       [-0.86836837],\n",
              "       [-0.86336336],\n",
              "       [-0.85835836],\n",
              "       [-0.85335335],\n",
              "       [-0.84834835],\n",
              "       [-0.84334334],\n",
              "       [-0.83833834],\n",
              "       [-0.83333333],\n",
              "       [-0.82832833],\n",
              "       [-0.82332332],\n",
              "       [-0.81831832],\n",
              "       [-0.81331331],\n",
              "       [-0.80830831],\n",
              "       [-0.8033033 ],\n",
              "       [-0.7982983 ],\n",
              "       [-0.79329329],\n",
              "       [-0.78828829],\n",
              "       [-0.78328328],\n",
              "       [-0.77827828],\n",
              "       [-0.77327327],\n",
              "       [-0.76826827],\n",
              "       [-0.76326326],\n",
              "       [-0.75825826],\n",
              "       [-0.75325325],\n",
              "       [-0.74824825],\n",
              "       [-0.74324324],\n",
              "       [-0.73823824],\n",
              "       [-0.73323323],\n",
              "       [-0.72822823],\n",
              "       [-0.72322322],\n",
              "       [-0.71821822],\n",
              "       [-0.71321321],\n",
              "       [-0.70820821],\n",
              "       [-0.7032032 ],\n",
              "       [-0.6981982 ],\n",
              "       [-0.69319319],\n",
              "       [-0.68818819],\n",
              "       [-0.68318318],\n",
              "       [-0.67817818],\n",
              "       [-0.67317317],\n",
              "       [-0.66816817],\n",
              "       [-0.66316316],\n",
              "       [-0.65815816],\n",
              "       [-0.65315315],\n",
              "       [-0.64814815],\n",
              "       [-0.64314314],\n",
              "       [-0.63813814],\n",
              "       [-0.63313313],\n",
              "       [-0.62812813],\n",
              "       [-0.62312312],\n",
              "       [-0.61811812],\n",
              "       [-0.61311311],\n",
              "       [-0.60810811],\n",
              "       [-0.6031031 ],\n",
              "       [-0.5980981 ],\n",
              "       [-0.59309309],\n",
              "       [-0.58808809],\n",
              "       [-0.58308308],\n",
              "       [-0.57807808],\n",
              "       [-0.57307307],\n",
              "       [-0.56806807],\n",
              "       [-0.56306306],\n",
              "       [-0.55805806],\n",
              "       [-0.55305305],\n",
              "       [-0.54804805],\n",
              "       [-0.54304304],\n",
              "       [-0.53803804],\n",
              "       [-0.53303303],\n",
              "       [-0.52802803],\n",
              "       [-0.52302302],\n",
              "       [-0.51801802],\n",
              "       [-0.51301301],\n",
              "       [-0.50800801],\n",
              "       [-0.503003  ],\n",
              "       [-0.497998  ],\n",
              "       [-0.49299299],\n",
              "       [-0.48798799],\n",
              "       [-0.48298298],\n",
              "       [-0.47797798],\n",
              "       [-0.47297297],\n",
              "       [-0.46796797],\n",
              "       [-0.46296296],\n",
              "       [-0.45795796],\n",
              "       [-0.45295295],\n",
              "       [-0.44794795],\n",
              "       [-0.44294294],\n",
              "       [-0.43793794],\n",
              "       [-0.43293293],\n",
              "       [-0.42792793],\n",
              "       [-0.42292292],\n",
              "       [-0.41791792],\n",
              "       [-0.41291291],\n",
              "       [-0.40790791],\n",
              "       [-0.4029029 ],\n",
              "       [-0.3978979 ],\n",
              "       [-0.39289289],\n",
              "       [-0.38788789],\n",
              "       [-0.38288288],\n",
              "       [-0.37787788],\n",
              "       [-0.37287287],\n",
              "       [-0.36786787],\n",
              "       [-0.36286286],\n",
              "       [-0.35785786],\n",
              "       [-0.35285285],\n",
              "       [-0.34784785],\n",
              "       [-0.34284284],\n",
              "       [-0.33783784],\n",
              "       [-0.33283283],\n",
              "       [-0.32782783],\n",
              "       [-0.32282282],\n",
              "       [-0.31781782],\n",
              "       [-0.31281281],\n",
              "       [-0.30780781],\n",
              "       [-0.3028028 ],\n",
              "       [-0.2977978 ],\n",
              "       [-0.29279279],\n",
              "       [-0.28778779],\n",
              "       [-0.28278278],\n",
              "       [-0.27777778],\n",
              "       [-0.27277277],\n",
              "       [-0.26776777],\n",
              "       [-0.26276276],\n",
              "       [-0.25775776],\n",
              "       [-0.25275275],\n",
              "       [-0.24774775],\n",
              "       [-0.24274274],\n",
              "       [-0.23773774],\n",
              "       [-0.23273273],\n",
              "       [-0.22772773],\n",
              "       [-0.22272272],\n",
              "       [-0.21771772],\n",
              "       [-0.21271271],\n",
              "       [-0.20770771],\n",
              "       [-0.2027027 ],\n",
              "       [-0.1976977 ],\n",
              "       [-0.19269269],\n",
              "       [-0.18768769],\n",
              "       [-0.18268268],\n",
              "       [-0.17767768],\n",
              "       [-0.17267267],\n",
              "       [-0.16766767],\n",
              "       [-0.16266266],\n",
              "       [-0.15765766],\n",
              "       [-0.15265265],\n",
              "       [-0.14764765],\n",
              "       [-0.14264264],\n",
              "       [-0.13763764],\n",
              "       [-0.13263263],\n",
              "       [-0.12762763],\n",
              "       [-0.12262262],\n",
              "       [-0.11761762],\n",
              "       [-0.11261261],\n",
              "       [-0.10760761],\n",
              "       [-0.1026026 ],\n",
              "       [-0.0975976 ],\n",
              "       [-0.09259259],\n",
              "       [-0.08758759],\n",
              "       [-0.08258258],\n",
              "       [-0.07757758],\n",
              "       [-0.07257257],\n",
              "       [-0.06756757],\n",
              "       [-0.06256256],\n",
              "       [-0.05755756],\n",
              "       [-0.05255255],\n",
              "       [-0.04754755],\n",
              "       [-0.04254254],\n",
              "       [-0.03753754],\n",
              "       [-0.03253253],\n",
              "       [-0.02752753],\n",
              "       [-0.02252252],\n",
              "       [-0.01751752],\n",
              "       [-0.01251251],\n",
              "       [-0.00750751],\n",
              "       [-0.0025025 ],\n",
              "       [ 0.0025025 ],\n",
              "       [ 0.00750751],\n",
              "       [ 0.01251251],\n",
              "       [ 0.01751752],\n",
              "       [ 0.02252252],\n",
              "       [ 0.02752753],\n",
              "       [ 0.03253253],\n",
              "       [ 0.03753754],\n",
              "       [ 0.04254254],\n",
              "       [ 0.04754755],\n",
              "       [ 0.05255255],\n",
              "       [ 0.05755756],\n",
              "       [ 0.06256256],\n",
              "       [ 0.06756757],\n",
              "       [ 0.07257257],\n",
              "       [ 0.07757758],\n",
              "       [ 0.08258258],\n",
              "       [ 0.08758759],\n",
              "       [ 0.09259259],\n",
              "       [ 0.0975976 ],\n",
              "       [ 0.1026026 ],\n",
              "       [ 0.10760761],\n",
              "       [ 0.11261261],\n",
              "       [ 0.11761762],\n",
              "       [ 0.12262262],\n",
              "       [ 0.12762763],\n",
              "       [ 0.13263263],\n",
              "       [ 0.13763764],\n",
              "       [ 0.14264264],\n",
              "       [ 0.14764765],\n",
              "       [ 0.15265265],\n",
              "       [ 0.15765766],\n",
              "       [ 0.16266266],\n",
              "       [ 0.16766767],\n",
              "       [ 0.17267267],\n",
              "       [ 0.17767768],\n",
              "       [ 0.18268268],\n",
              "       [ 0.18768769],\n",
              "       [ 0.19269269],\n",
              "       [ 0.1976977 ],\n",
              "       [ 0.2027027 ],\n",
              "       [ 0.20770771],\n",
              "       [ 0.21271271],\n",
              "       [ 0.21771772],\n",
              "       [ 0.22272272],\n",
              "       [ 0.22772773],\n",
              "       [ 0.23273273],\n",
              "       [ 0.23773774],\n",
              "       [ 0.24274274],\n",
              "       [ 0.24774775],\n",
              "       [ 0.25275275],\n",
              "       [ 0.25775776],\n",
              "       [ 0.26276276],\n",
              "       [ 0.26776777],\n",
              "       [ 0.27277277],\n",
              "       [ 0.27777778],\n",
              "       [ 0.28278278],\n",
              "       [ 0.28778779],\n",
              "       [ 0.29279279],\n",
              "       [ 0.2977978 ],\n",
              "       [ 0.3028028 ],\n",
              "       [ 0.30780781],\n",
              "       [ 0.31281281],\n",
              "       [ 0.31781782],\n",
              "       [ 0.32282282],\n",
              "       [ 0.32782783],\n",
              "       [ 0.33283283],\n",
              "       [ 0.33783784],\n",
              "       [ 0.34284284],\n",
              "       [ 0.34784785],\n",
              "       [ 0.35285285],\n",
              "       [ 0.35785786],\n",
              "       [ 0.36286286],\n",
              "       [ 0.36786787],\n",
              "       [ 0.37287287],\n",
              "       [ 0.37787788],\n",
              "       [ 0.38288288],\n",
              "       [ 0.38788789],\n",
              "       [ 0.39289289],\n",
              "       [ 0.3978979 ],\n",
              "       [ 0.4029029 ],\n",
              "       [ 0.40790791],\n",
              "       [ 0.41291291],\n",
              "       [ 0.41791792],\n",
              "       [ 0.42292292],\n",
              "       [ 0.42792793],\n",
              "       [ 0.43293293],\n",
              "       [ 0.43793794],\n",
              "       [ 0.44294294],\n",
              "       [ 0.44794795],\n",
              "       [ 0.45295295],\n",
              "       [ 0.45795796],\n",
              "       [ 0.46296296],\n",
              "       [ 0.46796797],\n",
              "       [ 0.47297297],\n",
              "       [ 0.47797798],\n",
              "       [ 0.48298298],\n",
              "       [ 0.48798799],\n",
              "       [ 0.49299299],\n",
              "       [ 0.497998  ],\n",
              "       [ 0.503003  ],\n",
              "       [ 0.50800801],\n",
              "       [ 0.51301301],\n",
              "       [ 0.51801802],\n",
              "       [ 0.52302302],\n",
              "       [ 0.52802803],\n",
              "       [ 0.53303303],\n",
              "       [ 0.53803804],\n",
              "       [ 0.54304304],\n",
              "       [ 0.54804805],\n",
              "       [ 0.55305305],\n",
              "       [ 0.55805806],\n",
              "       [ 0.56306306],\n",
              "       [ 0.56806807],\n",
              "       [ 0.57307307],\n",
              "       [ 0.57807808],\n",
              "       [ 0.58308308],\n",
              "       [ 0.58808809],\n",
              "       [ 0.59309309],\n",
              "       [ 0.5980981 ],\n",
              "       [ 0.6031031 ],\n",
              "       [ 0.60810811],\n",
              "       [ 0.61311311],\n",
              "       [ 0.61811812],\n",
              "       [ 0.62312312],\n",
              "       [ 0.62812813],\n",
              "       [ 0.63313313],\n",
              "       [ 0.63813814],\n",
              "       [ 0.64314314],\n",
              "       [ 0.64814815],\n",
              "       [ 0.65315315],\n",
              "       [ 0.65815816],\n",
              "       [ 0.66316316],\n",
              "       [ 0.66816817],\n",
              "       [ 0.67317317],\n",
              "       [ 0.67817818],\n",
              "       [ 0.68318318],\n",
              "       [ 0.68818819],\n",
              "       [ 0.69319319],\n",
              "       [ 0.6981982 ],\n",
              "       [ 0.7032032 ],\n",
              "       [ 0.70820821],\n",
              "       [ 0.71321321],\n",
              "       [ 0.71821822],\n",
              "       [ 0.72322322],\n",
              "       [ 0.72822823],\n",
              "       [ 0.73323323],\n",
              "       [ 0.73823824],\n",
              "       [ 0.74324324],\n",
              "       [ 0.74824825],\n",
              "       [ 0.75325325],\n",
              "       [ 0.75825826],\n",
              "       [ 0.76326326],\n",
              "       [ 0.76826827],\n",
              "       [ 0.77327327],\n",
              "       [ 0.77827828],\n",
              "       [ 0.78328328],\n",
              "       [ 0.78828829],\n",
              "       [ 0.79329329],\n",
              "       [ 0.7982983 ],\n",
              "       [ 0.8033033 ],\n",
              "       [ 0.80830831],\n",
              "       [ 0.81331331],\n",
              "       [ 0.81831832],\n",
              "       [ 0.82332332],\n",
              "       [ 0.82832833],\n",
              "       [ 0.83333333],\n",
              "       [ 0.83833834],\n",
              "       [ 0.84334334],\n",
              "       [ 0.84834835],\n",
              "       [ 0.85335335],\n",
              "       [ 0.85835836],\n",
              "       [ 0.86336336],\n",
              "       [ 0.86836837],\n",
              "       [ 0.87337337],\n",
              "       [ 0.87837838],\n",
              "       [ 0.88338338],\n",
              "       [ 0.88838839],\n",
              "       [ 0.89339339],\n",
              "       [ 0.8983984 ],\n",
              "       [ 0.9034034 ],\n",
              "       [ 0.90840841],\n",
              "       [ 0.91341341],\n",
              "       [ 0.91841842],\n",
              "       [ 0.92342342],\n",
              "       [ 0.92842843],\n",
              "       [ 0.93343343],\n",
              "       [ 0.93843844],\n",
              "       [ 0.94344344],\n",
              "       [ 0.94844845],\n",
              "       [ 0.95345345],\n",
              "       [ 0.95845846],\n",
              "       [ 0.96346346],\n",
              "       [ 0.96846847],\n",
              "       [ 0.97347347],\n",
              "       [ 0.97847848],\n",
              "       [ 0.98348348],\n",
              "       [ 0.98848849],\n",
              "       [ 0.99349349],\n",
              "       [ 0.9984985 ],\n",
              "       [ 1.0035035 ],\n",
              "       [ 1.00850851],\n",
              "       [ 1.01351351],\n",
              "       [ 1.01851852],\n",
              "       [ 1.02352352],\n",
              "       [ 1.02852853],\n",
              "       [ 1.03353353],\n",
              "       [ 1.03853854],\n",
              "       [ 1.04354354],\n",
              "       [ 1.04854855],\n",
              "       [ 1.05355355],\n",
              "       [ 1.05855856],\n",
              "       [ 1.06356356],\n",
              "       [ 1.06856857],\n",
              "       [ 1.07357357],\n",
              "       [ 1.07857858],\n",
              "       [ 1.08358358],\n",
              "       [ 1.08858859],\n",
              "       [ 1.09359359],\n",
              "       [ 1.0985986 ],\n",
              "       [ 1.1036036 ],\n",
              "       [ 1.10860861],\n",
              "       [ 1.11361361],\n",
              "       [ 1.11861862],\n",
              "       [ 1.12362362],\n",
              "       [ 1.12862863],\n",
              "       [ 1.13363363],\n",
              "       [ 1.13863864],\n",
              "       [ 1.14364364],\n",
              "       [ 1.14864865],\n",
              "       [ 1.15365365],\n",
              "       [ 1.15865866],\n",
              "       [ 1.16366366],\n",
              "       [ 1.16866867],\n",
              "       [ 1.17367367],\n",
              "       [ 1.17867868],\n",
              "       [ 1.18368368],\n",
              "       [ 1.18868869],\n",
              "       [ 1.19369369],\n",
              "       [ 1.1986987 ],\n",
              "       [ 1.2037037 ],\n",
              "       [ 1.20870871],\n",
              "       [ 1.21371371],\n",
              "       [ 1.21871872],\n",
              "       [ 1.22372372],\n",
              "       [ 1.22872873],\n",
              "       [ 1.23373373],\n",
              "       [ 1.23873874],\n",
              "       [ 1.24374374],\n",
              "       [ 1.24874875],\n",
              "       [ 1.25375375],\n",
              "       [ 1.25875876],\n",
              "       [ 1.26376376],\n",
              "       [ 1.26876877],\n",
              "       [ 1.27377377],\n",
              "       [ 1.27877878],\n",
              "       [ 1.28378378],\n",
              "       [ 1.28878879],\n",
              "       [ 1.29379379],\n",
              "       [ 1.2987988 ],\n",
              "       [ 1.3038038 ],\n",
              "       [ 1.30880881],\n",
              "       [ 1.31381381],\n",
              "       [ 1.31881882],\n",
              "       [ 1.32382382],\n",
              "       [ 1.32882883],\n",
              "       [ 1.33383383],\n",
              "       [ 1.33883884],\n",
              "       [ 1.34384384],\n",
              "       [ 1.34884885],\n",
              "       [ 1.35385385],\n",
              "       [ 1.35885886],\n",
              "       [ 1.36386386],\n",
              "       [ 1.36886887],\n",
              "       [ 1.37387387],\n",
              "       [ 1.37887888],\n",
              "       [ 1.38388388],\n",
              "       [ 1.38888889],\n",
              "       [ 1.39389389],\n",
              "       [ 1.3988989 ],\n",
              "       [ 1.4039039 ],\n",
              "       [ 1.40890891],\n",
              "       [ 1.41391391],\n",
              "       [ 1.41891892],\n",
              "       [ 1.42392392],\n",
              "       [ 1.42892893],\n",
              "       [ 1.43393393],\n",
              "       [ 1.43893894],\n",
              "       [ 1.44394394],\n",
              "       [ 1.44894895],\n",
              "       [ 1.45395395],\n",
              "       [ 1.45895896],\n",
              "       [ 1.46396396],\n",
              "       [ 1.46896897],\n",
              "       [ 1.47397397],\n",
              "       [ 1.47897898],\n",
              "       [ 1.48398398],\n",
              "       [ 1.48898899],\n",
              "       [ 1.49399399],\n",
              "       [ 1.498999  ],\n",
              "       [ 1.504004  ],\n",
              "       [ 1.50900901],\n",
              "       [ 1.51401401],\n",
              "       [ 1.51901902],\n",
              "       [ 1.52402402],\n",
              "       [ 1.52902903],\n",
              "       [ 1.53403403],\n",
              "       [ 1.53903904],\n",
              "       [ 1.54404404],\n",
              "       [ 1.54904905],\n",
              "       [ 1.55405405],\n",
              "       [ 1.55905906],\n",
              "       [ 1.56406406],\n",
              "       [ 1.56906907],\n",
              "       [ 1.57407407],\n",
              "       [ 1.57907908],\n",
              "       [ 1.58408408],\n",
              "       [ 1.58908909],\n",
              "       [ 1.59409409],\n",
              "       [ 1.5990991 ],\n",
              "       [ 1.6041041 ],\n",
              "       [ 1.60910911],\n",
              "       [ 1.61411411],\n",
              "       [ 1.61911912],\n",
              "       [ 1.62412412],\n",
              "       [ 1.62912913],\n",
              "       [ 1.63413413],\n",
              "       [ 1.63913914],\n",
              "       [ 1.64414414],\n",
              "       [ 1.64914915],\n",
              "       [ 1.65415415],\n",
              "       [ 1.65915916],\n",
              "       [ 1.66416416],\n",
              "       [ 1.66916917],\n",
              "       [ 1.67417417],\n",
              "       [ 1.67917918],\n",
              "       [ 1.68418418],\n",
              "       [ 1.68918919],\n",
              "       [ 1.69419419],\n",
              "       [ 1.6991992 ],\n",
              "       [ 1.7042042 ],\n",
              "       [ 1.70920921],\n",
              "       [ 1.71421421],\n",
              "       [ 1.71921922],\n",
              "       [ 1.72422422],\n",
              "       [ 1.72922923],\n",
              "       [ 1.73423423],\n",
              "       [ 1.73923924],\n",
              "       [ 1.74424424],\n",
              "       [ 1.74924925],\n",
              "       [ 1.75425425],\n",
              "       [ 1.75925926],\n",
              "       [ 1.76426426],\n",
              "       [ 1.76926927],\n",
              "       [ 1.77427427],\n",
              "       [ 1.77927928],\n",
              "       [ 1.78428428],\n",
              "       [ 1.78928929],\n",
              "       [ 1.79429429],\n",
              "       [ 1.7992993 ],\n",
              "       [ 1.8043043 ],\n",
              "       [ 1.80930931],\n",
              "       [ 1.81431431],\n",
              "       [ 1.81931932],\n",
              "       [ 1.82432432],\n",
              "       [ 1.82932933],\n",
              "       [ 1.83433433],\n",
              "       [ 1.83933934],\n",
              "       [ 1.84434434],\n",
              "       [ 1.84934935],\n",
              "       [ 1.85435435],\n",
              "       [ 1.85935936],\n",
              "       [ 1.86436436],\n",
              "       [ 1.86936937],\n",
              "       [ 1.87437437],\n",
              "       [ 1.87937938],\n",
              "       [ 1.88438438],\n",
              "       [ 1.88938939],\n",
              "       [ 1.89439439],\n",
              "       [ 1.8993994 ],\n",
              "       [ 1.9044044 ],\n",
              "       [ 1.90940941],\n",
              "       [ 1.91441441],\n",
              "       [ 1.91941942],\n",
              "       [ 1.92442442],\n",
              "       [ 1.92942943],\n",
              "       [ 1.93443443],\n",
              "       [ 1.93943944],\n",
              "       [ 1.94444444],\n",
              "       [ 1.94944945],\n",
              "       [ 1.95445445],\n",
              "       [ 1.95945946],\n",
              "       [ 1.96446446],\n",
              "       [ 1.96946947],\n",
              "       [ 1.97447447],\n",
              "       [ 1.97947948],\n",
              "       [ 1.98448448],\n",
              "       [ 1.98948949],\n",
              "       [ 1.99449449],\n",
              "       [ 1.9994995 ],\n",
              "       [ 2.0045045 ],\n",
              "       [ 2.00950951],\n",
              "       [ 2.01451451],\n",
              "       [ 2.01951952],\n",
              "       [ 2.02452452],\n",
              "       [ 2.02952953],\n",
              "       [ 2.03453453],\n",
              "       [ 2.03953954],\n",
              "       [ 2.04454454],\n",
              "       [ 2.04954955],\n",
              "       [ 2.05455455],\n",
              "       [ 2.05955956],\n",
              "       [ 2.06456456],\n",
              "       [ 2.06956957],\n",
              "       [ 2.07457457],\n",
              "       [ 2.07957958],\n",
              "       [ 2.08458458],\n",
              "       [ 2.08958959],\n",
              "       [ 2.09459459],\n",
              "       [ 2.0995996 ],\n",
              "       [ 2.1046046 ],\n",
              "       [ 2.10960961],\n",
              "       [ 2.11461461],\n",
              "       [ 2.11961962],\n",
              "       [ 2.12462462],\n",
              "       [ 2.12962963],\n",
              "       [ 2.13463463],\n",
              "       [ 2.13963964],\n",
              "       [ 2.14464464],\n",
              "       [ 2.14964965],\n",
              "       [ 2.15465465],\n",
              "       [ 2.15965966],\n",
              "       [ 2.16466466],\n",
              "       [ 2.16966967],\n",
              "       [ 2.17467467],\n",
              "       [ 2.17967968],\n",
              "       [ 2.18468468],\n",
              "       [ 2.18968969],\n",
              "       [ 2.19469469],\n",
              "       [ 2.1996997 ],\n",
              "       [ 2.2047047 ],\n",
              "       [ 2.20970971],\n",
              "       [ 2.21471471],\n",
              "       [ 2.21971972],\n",
              "       [ 2.22472472],\n",
              "       [ 2.22972973],\n",
              "       [ 2.23473473],\n",
              "       [ 2.23973974],\n",
              "       [ 2.24474474],\n",
              "       [ 2.24974975],\n",
              "       [ 2.25475475],\n",
              "       [ 2.25975976],\n",
              "       [ 2.26476476],\n",
              "       [ 2.26976977],\n",
              "       [ 2.27477477],\n",
              "       [ 2.27977978],\n",
              "       [ 2.28478478],\n",
              "       [ 2.28978979],\n",
              "       [ 2.29479479],\n",
              "       [ 2.2997998 ],\n",
              "       [ 2.3048048 ],\n",
              "       [ 2.30980981],\n",
              "       [ 2.31481481],\n",
              "       [ 2.31981982],\n",
              "       [ 2.32482482],\n",
              "       [ 2.32982983],\n",
              "       [ 2.33483483],\n",
              "       [ 2.33983984],\n",
              "       [ 2.34484484],\n",
              "       [ 2.34984985],\n",
              "       [ 2.35485485],\n",
              "       [ 2.35985986],\n",
              "       [ 2.36486486],\n",
              "       [ 2.36986987],\n",
              "       [ 2.37487487],\n",
              "       [ 2.37987988],\n",
              "       [ 2.38488488],\n",
              "       [ 2.38988989],\n",
              "       [ 2.39489489],\n",
              "       [ 2.3998999 ],\n",
              "       [ 2.4049049 ],\n",
              "       [ 2.40990991],\n",
              "       [ 2.41491491],\n",
              "       [ 2.41991992],\n",
              "       [ 2.42492492],\n",
              "       [ 2.42992993],\n",
              "       [ 2.43493493],\n",
              "       [ 2.43993994],\n",
              "       [ 2.44494494],\n",
              "       [ 2.44994995],\n",
              "       [ 2.45495495],\n",
              "       [ 2.45995996],\n",
              "       [ 2.46496496],\n",
              "       [ 2.46996997],\n",
              "       [ 2.47497497],\n",
              "       [ 2.47997998],\n",
              "       [ 2.48498498],\n",
              "       [ 2.48998999],\n",
              "       [ 2.49499499],\n",
              "       [ 2.5       ]])"
            ]
          },
          "metadata": {
            "tags": []
          },
          "execution_count": 14
        }
      ]
    },
    {
      "cell_type": "markdown",
      "metadata": {
        "id": "A9P_hXSqFm1-",
        "colab_type": "text"
      },
      "source": [
        "## Fit using sklearn"
      ]
    },
    {
      "cell_type": "code",
      "metadata": {
        "id": "uiPNtsZ-Fm2A",
        "colab_type": "code",
        "colab": {}
      },
      "source": [
        "from sklearn.linear_model import LinearRegression\n"
      ],
      "execution_count": 0,
      "outputs": []
    },
    {
      "cell_type": "code",
      "metadata": {
        "id": "2BBU8GLAFm2I",
        "colab_type": "code",
        "colab": {
          "base_uri": "https://localhost:8080/",
          "height": 34
        },
        "outputId": "3a288f71-4f2c-4a63-84c4-6bcb5f906d46"
      },
      "source": [
        "lr = LinearRegression()#lr is a instance of class or object of the class\n",
        "lr.fit(X,y)# we are fitting the existing data\n",
        "ypgrid = lr.predict(Xgrid)# plotting the generated one with the newly gnreated points\n",
        "lr.coef_, lr.intercept_\n",
        "# we are getting some noise due to which the values are changed friom the original one "
      ],
      "execution_count": 17,
      "outputs": [
        {
          "output_type": "execute_result",
          "data": {
            "text/plain": [
              "(array([82.90456142]), -3.709228868670302)"
            ]
          },
          "metadata": {
            "tags": []
          },
          "execution_count": 17
        }
      ]
    },
    {
      "cell_type": "code",
      "metadata": {
        "id": "9XDDL72ZFm2S",
        "colab_type": "code",
        "colab": {
          "base_uri": "https://localhost:8080/",
          "height": 286
        },
        "outputId": "302ea8f6-8bc1-47db-e92d-9176cacb6ffa"
      },
      "source": [
        "plt.plot(Xgrid, ypgrid)\n",
        "plt.plot(X, y, '.')"
      ],
      "execution_count": 19,
      "outputs": [
        {
          "output_type": "execute_result",
          "data": {
            "text/plain": [
              "[<matplotlib.lines.Line2D at 0x7fb557f87390>]"
            ]
          },
          "metadata": {
            "tags": []
          },
          "execution_count": 19
        },
        {
          "output_type": "display_data",
          "data": {
            "image/png": "[encoded data removed]",
            "text/plain": [
              "<Figure size 432x288 with 1 Axes>"
            ]
          },
          "metadata": {
            "tags": []
          }
        }
      ]
    },
    {
      "cell_type": "code",
      "metadata": {
        "id": "_dgeaXdnFm2a",
        "colab_type": "code",
        "colab": {}
      },
      "source": [
        "from sklearn.metrics import r2_score"
      ],
      "execution_count": 0,
      "outputs": []
    },
    {
      "cell_type": "code",
      "metadata": {
        "id": "eyKJjH4uFm2k",
        "colab_type": "code",
        "colab": {
          "base_uri": "https://localhost:8080/",
          "height": 34
        },
        "outputId": "2b5a857a-6ec2-4a4d-eb97-7f5a425d5c7f"
      },
      "source": [
        "r2_score(y, lr.predict(X))# this one compares the model with the mean of tge dtat set\n",
        "#  finding r2 with the same data swt that we trained is not a good one\n",
        "lr.score(X,y)"
      ],
      "execution_count": 23,
      "outputs": [
        {
          "output_type": "execute_result",
          "data": {
            "text/plain": [
              "0.9342344891672816"
            ]
          },
          "metadata": {
            "tags": []
          },
          "execution_count": 23
        }
      ]
    },
    {
      "cell_type": "code",
      "metadata": {
        "id": "qsQ_MVdUM6Ss",
        "colab_type": "code",
        "colab": {
          "base_uri": "https://localhost:8080/",
          "height": 34
        },
        "outputId": "406b4916-e20e-4c0d-8578-13e2227db2c8"
      },
      "source": [
        "lr.score(X,y)"
      ],
      "execution_count": 24,
      "outputs": [
        {
          "output_type": "execute_result",
          "data": {
            "text/plain": [
              "0.9342344891672816"
            ]
          },
          "metadata": {
            "tags": []
          },
          "execution_count": 24
        }
      ]
    },
    {
      "cell_type": "markdown",
      "metadata": {
        "id": "j0zJkXxcFm2s",
        "colab_type": "text"
      },
      "source": [
        "## The impact of sample size\n",
        "\n",
        "We'll sample 20 points from the data set. We do this by sampling 20 indices, index into X and y, and then fit on the sample"
      ]
    },
    {
      "cell_type": "code",
      "metadata": {
        "id": "x99avh8oFm2v",
        "colab_type": "code",
        "colab": {
          "base_uri": "https://localhost:8080/",
          "height": 51
        },
        "outputId": "3e01d56d-022b-4983-904b-51dd5d98ac54"
      },
      "source": [
        "sample_indices = np.random.choice(range(100), size=20)\n",
        "sample_indices#spliiting the data set"
      ],
      "execution_count": 28,
      "outputs": [
        {
          "output_type": "execute_result",
          "data": {
            "text/plain": [
              "array([13, 91, 46, 31, 85, 71, 90, 93, 85, 74, 57,  0, 67, 84, 80, 75, 48,\n",
              "       53, 80, 53])"
            ]
          },
          "metadata": {
            "tags": []
          },
          "execution_count": 28
        }
      ]
    },
    {
      "cell_type": "code",
      "metadata": {
        "id": "Zb8Xf60uFm22",
        "colab_type": "code",
        "colab": {}
      },
      "source": [
        "Xsample = X[sample_indices]\n",
        "ysample = y[sample_indices]"
      ],
      "execution_count": 0,
      "outputs": []
    },
    {
      "cell_type": "code",
      "metadata": {
        "id": "4Ut5y2VxFm3C",
        "colab_type": "code",
        "colab": {
          "base_uri": "https://localhost:8080/",
          "height": 34
        },
        "outputId": "90de4e82-1390-4170-8fe3-b335c48161fe"
      },
      "source": [
        "lr_s = LinearRegression().fit(Xsample, ysample)#doing liner reg \n",
        "r2_score(ysample, lr_s.predict(Xsample)), lr_s.score(Xsample, ysample)#calculating the r2 value"
      ],
      "execution_count": 30,
      "outputs": [
        {
          "output_type": "execute_result",
          "data": {
            "text/plain": [
              "(0.9690382128197904, 0.9690382128197904)"
            ]
          },
          "metadata": {
            "tags": []
          },
          "execution_count": 30
        }
      ]
    },
    {
      "cell_type": "markdown",
      "metadata": {
        "id": "LPApVkmSFm3P",
        "colab_type": "text"
      },
      "source": [
        "Lets check the sensitivity of our prediction to our sample. We'll do this 1000 times"
      ]
    },
    {
      "cell_type": "code",
      "metadata": {
        "id": "ZSiDh72_Fm3V",
        "colab_type": "code",
        "colab": {
          "base_uri": "https://localhost:8080/",
          "height": 286
        },
        "outputId": "a19ece38-ac38-4b0b-f024-6ca24b1c2a44"
      },
      "source": [
        "scores = []#list\n",
        "for i in range(1000):# doing 1000 times\n",
        "    sample_indices = np.random.choice(range(100), size=20)\n",
        "    Xsample = X[sample_indices]\n",
        "    ysample = y[sample_indices]\n",
        "    scores.append(LinearRegression().fit(Xsample, ysample).score(Xsample, ysample))#linear reg and find r2 values\n",
        "plt.hist(scores,  bins=np.linspace(0.7, 1, 30))\n",
        "plt.xlim(0.7,1)"
      ],
      "execution_count": 31,
      "outputs": [
        {
          "output_type": "execute_result",
          "data": {
            "text/plain": [
              "(0.7, 1)"
            ]
          },
          "metadata": {
            "tags": []
          },
          "execution_count": 31
        },
        {
          "output_type": "display_data",
          "data": {
            "image/png": "[encoded data removed]",
            "text/plain": [
              "<Figure size 432x288 with 1 Axes>"
            ]
          },
          "metadata": {
            "tags": []
          }
        }
      ]
    },
    {
      "cell_type": "markdown",
      "metadata": {
        "id": "yZCFbKq1Fm3e",
        "colab_type": "text"
      },
      "source": [
        "Redo this with a higher amount of noise (about 400). For this you will need to create a new dataset. Plot the data. Plot the histogram of the R^2 as well as that of the coefficients.Try a smaller dataset as well. What conclusions can you draw?"
      ]
    },
    {
      "cell_type": "code",
      "metadata": {
        "id": "haD9lJHzFm3j",
        "colab_type": "code",
        "colab": {
          "base_uri": "https://localhost:8080/",
          "height": 286
        },
        "outputId": "134939c8-8ca5-4264-aefc-4026a0876830"
      },
      "source": [
        "# your code here\n",
        "Xnew, ynew, coef = make_regression(n_samples = 100, \n",
        "                       n_features=1, # one type of x\n",
        "                       noise=300,\n",
        "                       random_state=2017,\n",
        "                       coef=True)\n",
        "xnewgrid = np.linspace(-2.5,2.5,1000)\n",
        "Xnewgrid = xgrid.reshape(-1,1)\n",
        "scoresnew = []#list\n",
        "for i in range(1000):# doing 1000 times\n",
        "    sample_indicesnew = np.random.choice(range(100), size=20)\n",
        "    Xnewsample = Xnew[sample_indicesnew]\n",
        "    ynewsample = ynew[sample_indicesnew]\n",
        "    scoresnew.append(LinearRegression().fit(Xnewsample, ynewsample).score(Xnewsample, ynewsample))#linear reg and find r2 values\n",
        "plt.hist(scoresnew,  bins=np.linspace(0, 1, 30))\n",
        "plt.xlim(0,1)"
      ],
      "execution_count": 39,
      "outputs": [
        {
          "output_type": "execute_result",
          "data": {
            "text/plain": [
              "(0, 1)"
            ]
          },
          "metadata": {
            "tags": []
          },
          "execution_count": 39
        },
        {
          "output_type": "display_data",
          "data": {
            "image/png": "[encoded data removed]",
            "text/plain": [
              "<Figure size 432x288 with 1 Axes>"
            ]
          },
          "metadata": {
            "tags": []
          }
        }
      ]
    },
    {
      "cell_type": "code",
      "metadata": {
        "id": "pnfC4zYaFm3w",
        "colab_type": "code",
        "colab": {
          "base_uri": "https://localhost:8080/",
          "height": 286
        },
        "outputId": "0b4c4b49-95f8-4e46-ccb6-dbc97061f185"
      },
      "source": [
        "# your code here\n",
        "Xnew, ynew, coef = make_regression(n_samples = 100, \n",
        "                       n_features=1, # one type of x\n",
        "                       noise=100,\n",
        "                       random_state=2017,\n",
        "                       coef=True)\n",
        "xnewgrid = np.linspace(-2.5,2.5,1000)\n",
        "Xnewgrid = xgrid.reshape(-1,1)\n",
        "scoresnew = []#list\n",
        "for i in range(1000):# doing 1000 times\n",
        "    sample_indicesnew = np.random.choice(range(100), size=100)\n",
        "    Xnewsample = Xnew[sample_indicesnew]\n",
        "    ynewsample = ynew[sample_indicesnew]\n",
        "    scoresnew.append(LinearRegression().fit(Xnewsample, ynewsample).score(Xnewsample, ynewsample))#linear reg and find r2 values\n",
        "plt.hist(scoresnew,  bins=np.linspace(0, 1, 30))\n",
        "plt.xlim(0,1)"
      ],
      "execution_count": 58,
      "outputs": [
        {
          "output_type": "execute_result",
          "data": {
            "text/plain": [
              "(0, 1)"
            ]
          },
          "metadata": {
            "tags": []
          },
          "execution_count": 58
        },
        {
          "output_type": "display_data",
          "data": {
            "image/png": "[encoded data removed]",
            "text/plain": [
              "<Figure size 432x288 with 1 Axes>"
            ]
          },
          "metadata": {
            "tags": []
          }
        }
      ]
    },
    {
      "cell_type": "code",
      "metadata": {
        "id": "IHPOFSRLFm3-",
        "colab_type": "code",
        "colab": {
          "base_uri": "https://localhost:8080/",
          "height": 286
        },
        "outputId": "10f5c361-c6bb-472d-df38-0b0d00d601c2"
      },
      "source": [
        "# your code here\n",
        "from sklearn.utils import resample\n",
        "Xnew, ynew, coef = make_regression(n_samples = 100, \n",
        "                       n_features=1, # one type of x\n",
        "                       noise=20,\n",
        "                       random_state=2017,\n",
        "                       coef=True)\n",
        "xnewgrid = np.linspace(-2.5,2.5,1000)\n",
        "Xnewgrid = xgrid.reshape(-1,1)\n",
        "scoresnew = []#list\n",
        "for i in range(1000):# doing 1000 times\n",
        "    sample_indicesnew = np.random.choice(range(100), size=20,replace=True)\n",
        "    Xnewsample = Xnew[sample_indicesnew]\n",
        "    ynewsample = ynew[sample_indicesnew]\n",
        "    #xboot=resample(data, replace=True, n_samples=4, random_state=1)\n",
        "    scoresnew.append(LinearRegression().fit(Xnewsample, ynewsample).score(Xnewsample, ynewsample))#linear reg and find r2 values\n",
        "plt.hist(scoresnew,  bins=np.linspace(0, 1, 30))\n",
        "plt.xlim(0.7,1)"
      ],
      "execution_count": 69,
      "outputs": [
        {
          "output_type": "execute_result",
          "data": {
            "text/plain": [
              "(0.7, 1)"
            ]
          },
          "metadata": {
            "tags": []
          },
          "execution_count": 69
        },
        {
          "output_type": "display_data",
          "data": {
            "image/png": "[encoded data removed]",
            "text/plain": [
              "<Figure size 432x288 with 1 Axes>"
            ]
          },
          "metadata": {
            "tags": []
          }
        }
      ]
    },
    {
      "cell_type": "code",
      "metadata": {
        "id": "8kGsNzIvTjja",
        "colab_type": "code",
        "colab": {
          "base_uri": "https://localhost:8080/",
          "height": 187
        },
        "outputId": "570fc2f6-7d2d-4e74-86e3-08d55b838fbd"
      },
      "source": [
        "for i in range(10):# doing 1000 times\n",
        "    sample_indicesnew = np.random.choice(range(10), size=10,replace=True)\n",
        "    print(sample_indicesnew)"
      ],
      "execution_count": 61,
      "outputs": [
        {
          "output_type": "stream",
          "text": [
            "[8 9 6 9 9 6 3 0 5 1]\n",
            "[8 3 9 6 7 6 7 2 3 5]\n",
            "[5 7 3 9 6 2 7 2 2 0]\n",
            "[5 8 2 7 0 7 6 6 4 8]\n",
            "[3 6 9 3 4 4 6 5 2 6]\n",
            "[0 7 8 4 2 6 6 9 6 1]\n",
            "[9 6 7 7 0 1 2 6 9 1]\n",
            "[5 3 2 2 1 9 5 8 1 1]\n",
            "[4 8 6 4 8 2 3 6 3 5]\n",
            "[6 6 8 8 6 1 2 7 8 4]\n"
          ],
          "name": "stdout"
        }
      ]
    },
    {
      "cell_type": "code",
      "metadata": {
        "id": "CbjtxAqAFm4X",
        "colab_type": "code",
        "colab": {
          "base_uri": "https://localhost:8080/",
          "height": 51
        },
        "outputId": "66f825a9-5c5e-43b5-afbf-b706679d6592"
      },
      "source": [
        "\n",
        "# scikit-learn bootstrap\n",
        "from sklearn.utils import resample\n",
        "# data sample\n",
        "data = [0.1, 0.2, 0.3, 0.4, 0.5, 0.6]\n",
        "# prepare bootstrap sample\n",
        "boot = resample(data, replace=True, n_samples=4, random_state=1)\n",
        "print('Bootstrap Sample: %s' % boot)\n",
        "# out of bag observations\n",
        "oob = [x for x in data if x not in boot]\n",
        "print('OOB Sample: %s' % oob)"
      ],
      "execution_count": 59,
      "outputs": [
        {
          "output_type": "stream",
          "text": [
            "Bootstrap Sample: [0.6, 0.4, 0.5, 0.1]\n",
            "OOB Sample: [0.2, 0.3]\n"
          ],
          "name": "stdout"
        }
      ]
    },
    {
      "cell_type": "code",
      "metadata": {
        "id": "3GXpzHmrFm4o",
        "colab_type": "code",
        "colab": {}
      },
      "source": [
        "# your code here\n"
      ],
      "execution_count": 0,
      "outputs": []
    },
    {
      "cell_type": "markdown",
      "metadata": {
        "id": "OvP8SGJpFm4v",
        "colab_type": "text"
      },
      "source": [
        "## Testing and training\n",
        "\n",
        "A grid like the one we created might contain some of the points we fit this model on. This is called **Data Contamination** and is a big no-no. If we want an independent estimate of the error, we should hold out some points in a test set."
      ]
    },
    {
      "cell_type": "code",
      "metadata": {
        "id": "NvYtTqLFFm4z",
        "colab_type": "code",
        "colab": {}
      },
      "source": [
        "from sklearn.model_selection import train_test_split"
      ],
      "execution_count": 0,
      "outputs": []
    },
    {
      "cell_type": "code",
      "metadata": {
        "id": "gs82jPzsFm49",
        "colab_type": "code",
        "colab": {}
      },
      "source": [
        "Xtrain, Xtest, ytrain, ytest = train_test_split(X, y, test_size=0.2, random_state=2017)"
      ],
      "execution_count": 0,
      "outputs": []
    },
    {
      "cell_type": "markdown",
      "metadata": {
        "id": "8SUKqqg0Fm5N",
        "colab_type": "text"
      },
      "source": [
        "Now lets fit the model on the training set and evaluate it both on the training set and the test set. We print the R^2"
      ]
    },
    {
      "cell_type": "code",
      "metadata": {
        "id": "ZleABNvEFm5Q",
        "colab_type": "code",
        "colab": {}
      },
      "source": [
        "lr2 = LinearRegression().fit(Xtrain, ytrain)\n",
        "r2_test = r2_score(ytest, lr.predict(Xtest))\n",
        "r2_train = r2_score(ytrain, lr.predict(Xtrain))"
      ],
      "execution_count": 0,
      "outputs": []
    },
    {
      "cell_type": "code",
      "metadata": {
        "id": "gB1v5-iwFm5c",
        "colab_type": "code",
        "colab": {}
      },
      "source": [
        "\"Train R2 is {}, while test R^2 is {}\".format(r2_train, r2_test)"
      ],
      "execution_count": 0,
      "outputs": []
    },
    {
      "cell_type": "markdown",
      "metadata": {
        "id": "dn4wIShaFm6E",
        "colab_type": "text"
      },
      "source": [
        "## Using Keras to fit the model\n",
        "\n",
        "We'll use plain and simple gradient descent (why?) and Keras's Sequential API"
      ]
    },
    {
      "cell_type": "code",
      "metadata": {
        "id": "VLAzR2wqFm6H",
        "colab_type": "code",
        "colab": {}
      },
      "source": [
        "from keras.models import Sequential\n",
        "from keras.layers import Dense\n",
        "lr3 = Sequential()\n",
        "lr3.add(Dense(1, input_shape=(1,)))\n",
        "lr3.compile(optimizer='sgd', loss='mean_squared_error',  metrics=['mae','accuracy'])\n",
        "lr3.summary()"
      ],
      "execution_count": 0,
      "outputs": []
    },
    {
      "cell_type": "code",
      "metadata": {
        "id": "gKDkZInkFm6X",
        "colab_type": "code",
        "colab": {}
      },
      "source": [
        "history = lr3.fit(Xtrain, ytrain, epochs=400, batch_size=80)"
      ],
      "execution_count": 0,
      "outputs": []
    },
    {
      "cell_type": "code",
      "metadata": {
        "id": "u8-QQHXbFm63",
        "colab_type": "code",
        "colab": {}
      },
      "source": [
        "plt.plot(history.history['loss'])"
      ],
      "execution_count": 0,
      "outputs": []
    },
    {
      "cell_type": "code",
      "metadata": {
        "id": "n0NQBigcFm7E",
        "colab_type": "code",
        "colab": {}
      },
      "source": [
        "lr3.get_weights()"
      ],
      "execution_count": 0,
      "outputs": []
    },
    {
      "cell_type": "markdown",
      "metadata": {
        "id": "8qdyH7NBFm7a",
        "colab_type": "text"
      },
      "source": [
        "### Using the Keras Functional API\n",
        "\n"
      ]
    },
    {
      "cell_type": "code",
      "metadata": {
        "id": "E7OpZn5bFm7e",
        "colab_type": "code",
        "colab": {}
      },
      "source": [
        "from keras.layers import Input, Dense\n",
        "from keras.models import Model\n",
        "\n",
        "inputs_placeholder = Input(shape=(1,))\n",
        "outputs_placeholder = Dense(1, activation='linear')(inputs_placeholder)\n",
        "\n",
        "m = Model(inputs=inputs_placeholder, outputs=outputs_placeholder)\n",
        "m.compile(optimizer='sgd', loss='mean_squared_error',  metrics=['mae','accuracy'])\n",
        "m.summary()"
      ],
      "execution_count": 0,
      "outputs": []
    },
    {
      "cell_type": "code",
      "metadata": {
        "id": "r1HR0hjEFm7l",
        "colab_type": "code",
        "colab": {}
      },
      "source": [
        "history2 = m.fit(Xtrain, ytrain, epochs=250, batch_size=80)"
      ],
      "execution_count": 0,
      "outputs": []
    },
    {
      "cell_type": "code",
      "metadata": {
        "id": "AHBI9SngFm7r",
        "colab_type": "code",
        "colab": {}
      },
      "source": [
        "m.get_weights()"
      ],
      "execution_count": 0,
      "outputs": []
    }
  ]
}